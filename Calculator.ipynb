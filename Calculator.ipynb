{
 "cells": [
  {
   "cell_type": "code",
   "execution_count": 33,
   "metadata": {},
   "outputs": [
    {
     "name": "stdout",
     "output_type": "stream",
     "text": [
      "Please put your first number:10000000\n",
      "please put ypur second number:200000\n",
      "please choose one these opperators: \n",
      "choose one of the following\"+ ,-, /, *\"*\n",
      "2000000000000\n"
     ]
    }
   ],
   "source": [
    "def calc (a,b,op):\n",
    "    '''\n",
    "    This formula works as a op b=c\n",
    "    where c is the computers output\n",
    "    '''\n",
    "    if op not in '+-/*':\n",
    "        return 'Please choose one of the following:\"+,-,/,*\" '\n",
    "    \n",
    "    if op=='+':\n",
    "        c=(a+b)\n",
    "        return c\n",
    "    if op=='-':\n",
    "        c=a-b\n",
    "        return c\n",
    "    if op=='/':\n",
    "        c=(a/b)\n",
    "        return c\n",
    "    if op=='*':\n",
    "        c=(a*b)\n",
    "        return c\n",
    "    \n",
    "def main():\n",
    "    a=int(input('Please put your first number:'))\n",
    "    b=int(input('please put ypur second number:'))\n",
    "    op=(input(\n",
    "        'please choose one these opperators: \\nchoose one of the following\"+ ,-, /, *\"'))\n",
    "    print(calc(a,b,op))\n",
    "    \n",
    "if __name__=='__main__':\n",
    "    main()"
   ]
  },
  {
   "cell_type": "code",
   "execution_count": null,
   "metadata": {},
   "outputs": [],
   "source": []
  },
  {
   "cell_type": "code",
   "execution_count": null,
   "metadata": {},
   "outputs": [],
   "source": []
  }
 ],
 "metadata": {
  "kernelspec": {
   "display_name": "Python 3",
   "language": "python",
   "name": "python3"
  },
  "language_info": {
   "codemirror_mode": {
    "name": "ipython",
    "version": 3
   },
   "file_extension": ".py",
   "mimetype": "text/x-python",
   "name": "python",
   "nbconvert_exporter": "python",
   "pygments_lexer": "ipython3",
   "version": "3.6.5"
  }
 },
 "nbformat": 4,
 "nbformat_minor": 2
}
